{
 "cells": [
  {
   "cell_type": "code",
   "execution_count": 33,
   "metadata": {},
   "outputs": [],
   "source": [
    "def reformat_citation(title, authors, journal, pdate, link, auth_type=1, conf=False):\n",
    "    \"\"\"\n",
    "    auth_type = 1 when the authors list is \"First Last, First Last, ...\"\n",
    "    auth_type = 2 is from the ISMRM site, when the format is \"Last, First  Last, First  ...\"\n",
    "    conf = True if its for a conference entry\n",
    "    \"\"\"\n",
    "    \n",
    "    if auth_type == 1: \n",
    "        split_auth = authors.split(',')\n",
    "    elif auth_type == 2:\n",
    "        old_auth = authors.split('  ')\n",
    "        split_auth = []\n",
    "        for item in old_auth:\n",
    "            flip = item.split(', ')\n",
    "            try:\n",
    "                new_item = flip[1] + ' ' + flip[0]\n",
    "                split_auth.append(new_item)\n",
    "            except IndexError:\n",
    "                pass\n",
    "        \n",
    "    trunc_auth = ''\n",
    "    for item in split_auth:\n",
    "        first = item.split()[0][0]\n",
    "        last = item.split()[-1]\n",
    "        trunc_auth += first + ' ' + last + ', '\n",
    "        \n",
    "\n",
    "    trunc_auth = trunc_auth[:-2] + '.'\n",
    "    trunc_auth = trunc_auth.replace('S Siddiqui', '<span class=\"aauthor\">S Siddiqui</span>')\n",
    "    \n",
    "    title = ' <span class=\"atitle\">' + title + '</span>.'\n",
    "    url = '<a href=\"template\"> (link)</a>.'.replace('template', link)\n",
    "    \n",
    "    if conf:\n",
    "        citation = '<p>\\n' + trunc_auth + title + ' ' + journal + ' (' + pdate + ')\\n</p>'\n",
    "    else:\n",
    "        citation = '<p>\\n' + trunc_auth + title + ' ' + journal + '. ' + pdate + url + '\\n</p>'\n",
    "    print(citation)\n",
    "    \n",
    "    return citation"
   ]
  },
  {
   "cell_type": "code",
   "execution_count": 67,
   "metadata": {},
   "outputs": [
    {
     "name": "stdout",
     "output_type": "stream",
     "text": [
      "<p>\n",
      "F Last, S Last2, T Last3. <span class=\"atitle\">This is a paper title</span>. NMR in Biomedicine. May 2018<a href=\"http://smsiddiqui.com\"> (link)</a>.\n",
      "</p>\n"
     ]
    }
   ],
   "source": [
    "title = 'This is a paper title'\n",
    "authors = 'First Last, Second Last2, Third Last3'\n",
    "journal = 'NMR in Biomedicine'\n",
    "pdate = 'May 2018'\n",
    "link = 'http://smsiddiqui.com'\n",
    "\n",
    "_ = reformat_citation(title, authors, journal, pdate, link, 1, False)"
   ]
  },
  {
   "cell_type": "markdown",
   "metadata": {},
   "source": [
    "Open a text file with the following format:\n",
    "\n",
    "title\n",
    "name list\n",
    "\n",
    "title2\n",
    "name list2\n",
    "\n",
    "in the cell below. Do specifiy in the function input what the name list syntax is"
   ]
  },
  {
   "cell_type": "code",
   "execution_count": 68,
   "metadata": {},
   "outputs": [
    {
     "name": "stdout",
     "output_type": "stream",
     "text": [
      "<p>\n",
      "N Last, N Last2, N Last3. <span class=\"atitle\">Title One of this paper</span>. ISMRM: Virtual Conference (2020)\n",
      "</p>\n",
      "\n",
      "<p>\n",
      "N Last, N Last2, N Last3. <span class=\"atitle\">Title two of this paper</span>. ISMRM: Virtual Conference (2020)\n",
      "</p>\n",
      "\n",
      "<p>\n",
      "N Last, N Last2, N Last3. <span class=\"atitle\">Title three of this paper</span>. ISMRM: Virtual Conference (2020)\n",
      "</p>\n",
      "\n"
     ]
    },
    {
     "ename": "IndexError",
     "evalue": "list index out of range",
     "output_type": "error",
     "traceback": [
      "\u001b[0;31m---------------------------------------------------------------------------\u001b[0m",
      "\u001b[0;31mIndexError\u001b[0m                                Traceback (most recent call last)",
      "\u001b[0;32m<ipython-input-68-788ce37947bc>\u001b[0m in \u001b[0;36m<module>\u001b[0;34m\u001b[0m\n\u001b[1;32m     15\u001b[0m \u001b[0;34m\u001b[0m\u001b[0m\n\u001b[1;32m     16\u001b[0m \u001b[0;32mfor\u001b[0m \u001b[0mi\u001b[0m \u001b[0;32min\u001b[0m \u001b[0mrange\u001b[0m\u001b[0;34m(\u001b[0m\u001b[0;36m0\u001b[0m\u001b[0;34m,\u001b[0m\u001b[0mlen\u001b[0m\u001b[0;34m(\u001b[0m\u001b[0mnew_lines\u001b[0m\u001b[0;34m)\u001b[0m\u001b[0;34m,\u001b[0m\u001b[0;36m2\u001b[0m\u001b[0;34m)\u001b[0m\u001b[0;34m:\u001b[0m\u001b[0;34m\u001b[0m\u001b[0;34m\u001b[0m\u001b[0m\n\u001b[0;32m---> 17\u001b[0;31m     \u001b[0mtitle\u001b[0m \u001b[0;34m=\u001b[0m \u001b[0mnewest_lines\u001b[0m\u001b[0;34m[\u001b[0m\u001b[0mi\u001b[0m\u001b[0;34m]\u001b[0m\u001b[0;34m\u001b[0m\u001b[0;34m\u001b[0m\u001b[0m\n\u001b[0m\u001b[1;32m     18\u001b[0m     \u001b[0mauthors\u001b[0m \u001b[0;34m=\u001b[0m \u001b[0mnewest_lines\u001b[0m\u001b[0;34m[\u001b[0m\u001b[0mi\u001b[0m\u001b[0;34m+\u001b[0m\u001b[0;36m1\u001b[0m\u001b[0;34m]\u001b[0m\u001b[0;34m\u001b[0m\u001b[0;34m\u001b[0m\u001b[0m\n\u001b[1;32m     19\u001b[0m     \u001b[0m_\u001b[0m \u001b[0;34m=\u001b[0m \u001b[0mreformat_citation\u001b[0m\u001b[0;34m(\u001b[0m\u001b[0mtitle\u001b[0m\u001b[0;34m,\u001b[0m \u001b[0mauthors\u001b[0m\u001b[0;34m,\u001b[0m \u001b[0mjournal\u001b[0m\u001b[0;34m,\u001b[0m \u001b[0mpdate\u001b[0m\u001b[0;34m,\u001b[0m \u001b[0mlink\u001b[0m\u001b[0;34m,\u001b[0m \u001b[0;36m2\u001b[0m\u001b[0;34m,\u001b[0m \u001b[0;32mTrue\u001b[0m\u001b[0;34m)\u001b[0m\u001b[0;34m\u001b[0m\u001b[0;34m\u001b[0m\u001b[0m\n",
      "\u001b[0;31mIndexError\u001b[0m: list index out of range"
     ]
    }
   ],
   "source": [
    "with open('conf.txt') as f:\n",
    "    lines = f.readlines()\n",
    "\n",
    "new_lines = []\n",
    "for item in lines:\n",
    "    new_lines.append(item.strip('\\n'))\n",
    "newest_lines = []\n",
    "for i,j in enumerate(new_lines):\n",
    "    if (i + 1)% 3 != 0:\n",
    "        newest_lines.append(j)\n",
    "\n",
    "journal = 'ISMRM: Virtual Conference'\n",
    "pdate = '2020'\n",
    "link = ''\n",
    "\n",
    "for i in range(0,len(new_lines),2):\n",
    "    title = newest_lines[i]\n",
    "    authors = newest_lines[i+1]\n",
    "    _ = reformat_citation(title, authors, journal, pdate, link, 2, True)\n",
    "    print()"
   ]
  }
 ],
 "metadata": {
  "kernelspec": {
   "display_name": "Python 3",
   "language": "python",
   "name": "python3"
  },
  "language_info": {
   "codemirror_mode": {
    "name": "ipython",
    "version": 3
   },
   "file_extension": ".py",
   "mimetype": "text/x-python",
   "name": "python",
   "nbconvert_exporter": "python",
   "pygments_lexer": "ipython3",
   "version": "3.8.3"
  }
 },
 "nbformat": 4,
 "nbformat_minor": 4
}
